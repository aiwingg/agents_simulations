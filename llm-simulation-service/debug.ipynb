{
 "cells": [
  {
   "cell_type": "code",
   "execution_count": 3,
   "metadata": {},
   "outputs": [],
   "source": [
    "import requests\n",
    "\n",
    "res = requests.get(\"http://localhost:5001/api/batches/6a7d294e-7e38-4d5b-97e0-6125afba2d75/results\")"
   ]
  },
  {
   "cell_type": "code",
   "execution_count": 5,
   "metadata": {},
   "outputs": [
    {
     "data": {
      "text/plain": [
       "{'batch_id': '6a7d294e-7e38-4d5b-97e0-6125afba2d75',\n",
       " 'results': [{'comment': 'Агент проявил вежливость и профессионализм, но не смог предоставить клиенту конкретную информацию о товаре, что привело к незавершенному заказу и снижению удовлетворенности клиента.',\n",
       "   'duration_seconds': 13.850819110870361,\n",
       "   'end_time': '2025-06-11T17:59:23.382627',\n",
       "   'evaluation_status': 'success',\n",
       "   'scenario': 'calm_reorder',\n",
       "   'scenario_index': 0,\n",
       "   'score': 2,\n",
       "   'session_id': '4c5d29fe-938f-41fb-b714-7e59b7ed5424',\n",
       "   'start_time': '2025-06-11T17:59:09.531808',\n",
       "   'status': 'completed',\n",
       "   'total_turns': 3}],\n",
       " 'total_results': 1}"
      ]
     },
     "execution_count": 5,
     "metadata": {},
     "output_type": "execute_result"
    }
   ],
   "source": [
    "res.json()"
   ]
  },
  {
   "cell_type": "code",
   "execution_count": null,
   "metadata": {},
   "outputs": [],
   "source": []
  }
 ],
 "metadata": {
  "kernelspec": {
   "display_name": "aiwing2",
   "language": "python",
   "name": "python3"
  },
  "language_info": {
   "codemirror_mode": {
    "name": "ipython",
    "version": 3
   },
   "file_extension": ".py",
   "mimetype": "text/x-python",
   "name": "python",
   "nbconvert_exporter": "python",
   "pygments_lexer": "ipython3",
   "version": "3.12.9"
  }
 },
 "nbformat": 4,
 "nbformat_minor": 2
}
